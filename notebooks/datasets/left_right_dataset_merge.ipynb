{
  "nbformat": 4,
  "nbformat_minor": 0,
  "metadata": {
    "colab": {
      "provenance": []
    },
    "kernelspec": {
      "name": "python3",
      "display_name": "Python 3"
    },
    "language_info": {
      "name": "python"
    }
  },
  "cells": [
    {
      "cell_type": "code",
      "execution_count": 1,
      "metadata": {
        "id": "UwI8wDYUsDZX"
      },
      "outputs": [],
      "source": [
        "# merge the left-right dataset parts (all years and all leanings in one csv)"
      ]
    },
    {
      "cell_type": "code",
      "source": [
        "import pandas as pd\n",
        "import glob\n",
        "\n",
        "file_paths = glob.glob('data/*.csv')\n",
        "data_frames = [pd.read_csv(file) for file in file_paths]\n",
        "\n",
        "merged_df = pd.concat(data_frames, ignore_index=True)\n",
        "\n",
        "balanced_data = []\n",
        "\n",
        "for year, year_group in merged_df.groupby('Year'):\n",
        "    groups = {leaning: group for leaning, group in year_group.groupby('Leaning')}\n",
        "    # for each year: equal number of left, right, and center\n",
        "    min_count = min(len(groups.get('left', [])), len(groups.get('right', [])), len(groups.get('center', [])))\n",
        "    if min_count > 0:\n",
        "        balanced_data.append(groups['left'].sample(min_count, random_state=42))\n",
        "        balanced_data.append(groups['right'].sample(min_count, random_state=42))\n",
        "        balanced_data.append(groups['center'].sample(min_count, random_state=42))\n",
        "\n",
        "balanced_df = pd.concat(balanced_data, ignore_index=True)\n",
        "\n",
        "balanced_df.to_csv('balanced_data.csv', index=False)"
      ],
      "metadata": {
        "id": "z_f9zKKetikW"
      },
      "execution_count": 2,
      "outputs": []
    }
  ]
}